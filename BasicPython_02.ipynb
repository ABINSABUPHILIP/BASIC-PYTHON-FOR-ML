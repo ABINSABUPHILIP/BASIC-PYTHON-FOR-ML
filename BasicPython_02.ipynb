{
  "nbformat": 4,
  "nbformat_minor": 0,
  "metadata": {
    "colab": {
      "provenance": [],
      "authorship_tag": "ABX9TyPHtfQmduKPuCkIkORVp/1k",
      "include_colab_link": true
    },
    "kernelspec": {
      "name": "python3",
      "display_name": "Python 3"
    },
    "language_info": {
      "name": "python"
    }
  },
  "cells": [
    {
      "cell_type": "markdown",
      "metadata": {
        "id": "view-in-github",
        "colab_type": "text"
      },
      "source": [
        "<a href=\"https://colab.research.google.com/github/ABINSABUPHILIP/BASIC-PYTHON-FOR-ML/blob/main/BasicPython_02.ipynb\" target=\"_parent\"><img src=\"https://colab.research.google.com/assets/colab-badge.svg\" alt=\"Open In Colab\"/></a>"
      ]
    },
    {
      "cell_type": "markdown",
      "source": [
        "## 1. Program to find largest of three numbers\n",
        "######Steps:\n",
        "#####**step 1.** assign 3 numbers as float from user\n",
        "#####**step 2.** compare the numbers and assign it to largest using conditionals if-elif-else\n",
        "#####**step 3.** print largest\n",
        "**step 4.** Stop\n",
        "\n",
        "\n"
      ],
      "metadata": {
        "id": "M71fbCtRpBXZ"
      }
    },
    {
      "cell_type": "code",
      "execution_count": 1,
      "metadata": {
        "colab": {
          "base_uri": "https://localhost:8080/"
        },
        "id": "hWB4RWrEAScd",
        "outputId": "621e517e-f76a-4fe9-97f5-3be4fe0004fa"
      },
      "outputs": [
        {
          "output_type": "stream",
          "name": "stdout",
          "text": [
            "Enter first number: 40\n",
            "Enter second number: 24\n",
            "Enter third number: 32\n",
            "The largest number is 40.0\n"
          ]
        }
      ],
      "source": [
        "\"\"\"\n",
        "# Python program to find the largest number among the three input numbers\n",
        "\"\"\"\n",
        "num1 = 40\n",
        "num2 = 24\n",
        "num3 = 32\n",
        "#uncomment following lines to take three numbers from user\n",
        "num1 = float(input(\"Enter first number: \"))\n",
        "num2 = float(input(\"Enter second number: \"))\n",
        "num3 = float(input(\"Enter third number: \"))\n",
        "if (num1 >= num2) and (num1 >= num3):\n",
        "   largest = num1\n",
        "elif (num2 >= num1) and (num2 >= num3):\n",
        "   largest = num2\n",
        "else:\n",
        "   largest = num3\n",
        "print(\"The largest number is\", largest)"
      ]
    },
    {
      "cell_type": "markdown",
      "source": [
        "## 2. Printing multiplication table\n",
        "---\n",
        "- **step1** start\n",
        "- **step2** take input from user\n",
        "- **step3** use iteration for loop from range 1-10\n",
        "- **step4** print the values as table\n",
        "- **step5** stop"
      ],
      "metadata": {
        "id": "yiWkBjCAR_0-"
      }
    },
    {
      "cell_type": "code",
      "execution_count": 3,
      "metadata": {
        "colab": {
          "base_uri": "https://localhost:8080/"
        },
        "id": "GXVl7OjcR71f",
        "outputId": "ace423ee-1bb2-4bf1-94f1-2b53392054a2"
      },
      "outputs": [
        {
          "output_type": "stream",
          "name": "stdout",
          "text": [
            "Display multiplication table of? 12\n",
            "12 x 1 = 12\n",
            "12 x 2 = 24\n",
            "12 x 3 = 36\n",
            "12 x 4 = 48\n",
            "12 x 5 = 60\n",
            "12 x 6 = 72\n",
            "12 x 7 = 84\n",
            "12 x 8 = 96\n",
            "12 x 9 = 108\n",
            "12 x 10 = 120\n"
          ]
        }
      ],
      "source": [
        "# Multiplication table (from 1 to 10) in Python\n",
        "\n",
        "#num = 12\n",
        "\n",
        "# To take input from the user\n",
        "num = int(input(\"Display multiplication table of? \"))\n",
        "\n",
        "# Iterate 10 times from i = 1 to 10\n",
        "for i in range(1, 11):\n",
        "   print(num, 'x', i, '=', num*i)"
      ]
    },
    {
      "cell_type": "markdown",
      "source": [
        "## 3. Check for sign of a number\n",
        "---\n",
        "- **step1** start\n",
        "- **step2** assign value from user as nim\n",
        "- **step3** using conditionals if-else:\n",
        "  - **step4** if num >0 its positive\n",
        "  - **step5** equals 0 then 0\n",
        "  - **step6** num<0 then negative\n",
        "- **step7** stop"
      ],
      "metadata": {
        "id": "yo27A0UgSLMG"
      }
    },
    {
      "cell_type": "code",
      "source": [
        "num = float(input(\"Enter a number: \"))\n",
        "if num > 0:\n",
        "   print(\"Positive number\")\n",
        "elif num == 0:\n",
        "   print(\"Zero\")\n",
        "else:\n",
        "   print(\"Negative number\")"
      ],
      "metadata": {
        "colab": {
          "base_uri": "https://localhost:8080/"
        },
        "id": "qagw5dYPSOtO",
        "outputId": "eae6d414-7fbb-422f-b82d-f736ddfa3a93"
      },
      "execution_count": null,
      "outputs": [
        {
          "output_type": "stream",
          "name": "stdout",
          "text": [
            "Enter a number: -0.9\n",
            "Negative number\n"
          ]
        }
      ]
    },
    {
      "cell_type": "markdown",
      "source": [
        "## 4. Find surface area and volume of a cylinder\n",
        "\n",
        "Let $r$ is the base radius and $h$ is the height of a right circular cylinder.\n",
        "$$SA=2\\pi r(r+h)$$\n",
        "\n",
        "$$V=\\pi r^2 h$$\n",
        "- **step1** start\n",
        "- **step2** assign the values of pi , r and h \n",
        "- **step3** use formula SA=2pi*r(r+h) and V=pi*r**2*h\n",
        "- **step4** print SA and V\n",
        "- **step5** stop"
      ],
      "metadata": {
        "id": "Rr--yGIkVoaw"
      }
    },
    {
      "cell_type": "code",
      "source": [
        "#from math import pi\n",
        "pi=3.14\n",
        "r=2.6\n",
        "h=1.6\n",
        "SA=2*pi*r*(r+h)\n",
        "V=pi*r**2*h\n",
        "print((\"Surface Area is {} \\n and Volume is {}\").format(SA,V))"
      ],
      "metadata": {
        "colab": {
          "base_uri": "https://localhost:8080/"
        },
        "id": "NP5Yahw5Wazn",
        "outputId": "74db1917-da53-4a4f-db82-8993170b7b14"
      },
      "execution_count": 4,
      "outputs": [
        {
          "output_type": "stream",
          "name": "stdout",
          "text": [
            "Surface Area is 68.57760000000002 \n",
            " and Volume is 33.96224\n"
          ]
        }
      ]
    },
    {
      "cell_type": "markdown",
      "source": [
        "## 5. Find area of a circle with radius $r$ using user input\n",
        "- **step1** assign values of radius as r\n",
        "- **step2** use formula A=pi*r^2\n",
        "- **step3** print area as A\n",
        "- **step4** stop"
      ],
      "metadata": {
        "id": "sSr3xEtuXdw-"
      }
    },
    {
      "cell_type": "code",
      "source": [
        "\"\"\"\n",
        "program to find area of a circle\n",
        "\"\"\"\n",
        "r=float(input(\"Enter the radius: \"))\n",
        "print(\"Area: \",pi*r**2)"
      ],
      "metadata": {
        "colab": {
          "base_uri": "https://localhost:8080/"
        },
        "id": "2joezx-KXljx",
        "outputId": "5eab0c01-0061-478a-a647-c97f69f28e71"
      },
      "execution_count": null,
      "outputs": [
        {
          "output_type": "stream",
          "name": "stdout",
          "text": [
            "Enter the radius: 6.3\n",
            "Area:  124.6266\n"
          ]
        }
      ]
    },
    {
      "cell_type": "markdown",
      "source": [
        "## 6. Find the area of a rectangle with lenght $l$ and breadth $b$\n",
        "- **step1** assign values of length and breadth as l and b\n",
        "- **step2** use formula A=l*b\n",
        "- **step3** print area as A\n",
        "- **step4** stop"
      ],
      "metadata": {
        "id": "VRlXLlz9YD6N"
      }
    },
    {
      "cell_type": "code",
      "source": [
        "l=2;b=5.2\n",
        "Area=l*b\n",
        "print(\"Area of the Rectangle is : \",Area)"
      ],
      "metadata": {
        "colab": {
          "base_uri": "https://localhost:8080/"
        },
        "id": "tE_hVFL2YK2F",
        "outputId": "fecd8378-eb1d-4c74-9692-3611652c3068"
      },
      "execution_count": null,
      "outputs": [
        {
          "output_type": "stream",
          "name": "stdout",
          "text": [
            "Area of the Rectangle is :  10.4\n"
          ]
        }
      ]
    },
    {
      "cell_type": "markdown",
      "source": [
        "## 7. Replacing a word with another word  in a sentence\n",
        "\n",
        "Use the `replace()` method in `python`\n",
        "\n",
        ">**Syntax:**\n",
        "\n",
        "```\n",
        "str.replace(old,new)\n",
        "```\n",
        "\n",
        "\n",
        "*   **step1** enter a text/string variable\n",
        "*   **step2** assign the old and new values to be replaced\n",
        "-  **step3** print the new text/string variable\n",
        "- **step4** stop\n",
        "\n"
      ],
      "metadata": {
        "id": "SP246J1XZHbk"
      }
    },
    {
      "cell_type": "code",
      "source": [
        "# program to replace a word by another word in a sentence\n",
        "\n",
        "text = 'hand ball is a hand full of hands'\n",
        "\n",
        "# replace 'hand' with 'foot'\n",
        "replaced_text = text.replace('hand ', 'foot ')\n",
        "print(replaced_text)"
      ],
      "metadata": {
        "colab": {
          "base_uri": "https://localhost:8080/"
        },
        "id": "QfIPj2_SZM6n",
        "outputId": "49f71787-5fc9-4245-cd7e-769bff7b0b08"
      },
      "execution_count": null,
      "outputs": [
        {
          "output_type": "stream",
          "name": "stdout",
          "text": [
            "foot ball is a foot full of foots\n"
          ]
        }
      ]
    },
    {
      "cell_type": "markdown",
      "source": [
        "## 8. Program to remove a word from a sentence\n",
        "\n",
        "We will use the string method `remove()`.\n",
        "\n",
        ">**Syntax:**\n",
        "\n",
        "```\n",
        "str.remove(word to be removed)\n",
        "```\n",
        "- **step1** assign the string\n",
        "- **step2** assign the word to be deleted\n",
        "- **step3** use replace function\n",
        "- **step4** print new string\n",
        "- **step5** stop"
      ],
      "metadata": {
        "id": "kpxkra3ZjgzQ"
      }
    },
    {
      "cell_type": "code",
      "source": [
        "# program to remove a word from a sentence\n",
        "text = input(\"Enter the String: \")\n",
        "word = input(\"Enter a Word to Delete: \")\n",
        "\n",
        "text = text.replace(word, \"\")\n",
        "print(\"The updated sentence is:\\n\")\n",
        "print(text)"
      ],
      "metadata": {
        "colab": {
          "base_uri": "https://localhost:8080/"
        },
        "id": "-bTOChg4kxRr",
        "outputId": "8dbdb8b0-d752-4567-d531-85028c329020"
      },
      "execution_count": null,
      "outputs": [
        {
          "output_type": "stream",
          "name": "stdout",
          "text": [
            "Enter the String: He is my friend\n",
            "Enter a Word to Delete: my\n",
            "The updated sentence is:\n",
            "\n",
            "He is  friend\n"
          ]
        }
      ]
    },
    {
      "cell_type": "markdown",
      "source": [
        "## 9. Program to split a sentence into words\n",
        "\n",
        "use the `split()` method\n",
        ">**Syntax:**\n",
        "```\n",
        "str.split()\n",
        "```\n",
        "- **step1** assign text string from user\n",
        "- **step2** use split function and asign values to wordlist\n",
        "- **step3** print wordlist\n",
        "- **step4** stop"
      ],
      "metadata": {
        "id": "NRg-zTGOlVKG"
      }
    },
    {
      "cell_type": "code",
      "source": [
        "text=input(\"enter the string : \")\n",
        "wordlist = text.split()\n",
        "print(wordlist)"
      ],
      "metadata": {
        "colab": {
          "base_uri": "https://localhost:8080/"
        },
        "id": "GjXgR_vmlqRd",
        "outputId": "f4cfc228-e716-4341-e38a-5e6ede8c293a"
      },
      "execution_count": 6,
      "outputs": [
        {
          "output_type": "stream",
          "name": "stdout",
          "text": [
            "enter the string : no one will pass exam\n",
            "['no', 'one', 'will', 'pass', 'exam']\n"
          ]
        }
      ]
    },
    {
      "cell_type": "markdown",
      "source": [
        "## 10. Program to check if a list of words is in a long string at least one\n",
        "- **step1** enter keywords to be searched\n",
        "- **step2** enter the text string\n",
        "- **step3** use set-intersection function in split function \n",
        "  - **step3.1** set() convert set to list\n",
        "  - **step3.2** intersection() method returns a new set with an element that is common to all set\n",
        "- **step4** use if-else loop : print found one if true \n",
        "- **step5** stop"
      ],
      "metadata": {
        "id": "EAo8docqnlRg"
      }
    },
    {
      "cell_type": "code",
      "source": [
        "# program to check atleat one occurance of keywords\n",
        "\n",
        "keyword_list = ['motorcycle', 'bike', 'bicycle', 'dirtbike', \"long\"]\n",
        "all_text = 'The bicycle is just as good company as most husbands and, when it gets old and shabby, a woman can dispose of it and get a new one without shocking the entire community'\n",
        "if set(keyword_list).intersection(all_text.split()):\n",
        "     print(\"Found One\")"
      ],
      "metadata": {
        "colab": {
          "base_uri": "https://localhost:8080/"
        },
        "id": "RnmT51ISnsVu",
        "outputId": "14d2a745-882a-4fd6-8a27-365a81f815c9"
      },
      "execution_count": null,
      "outputs": [
        {
          "output_type": "stream",
          "name": "stdout",
          "text": [
            "Found One\n"
          ]
        }
      ]
    },
    {
      "cell_type": "markdown",
      "source": [
        "## 11. Program to check whether an entered one is an alphabet or not\n",
        "- **step1** enter the item to be checked\n",
        "- **step2** use if-elif-else loop\n",
        "- **step3** if item ranges between a - z or A - Z print its alpabet\n",
        "- **step4** else print its not alphabet\n",
        "- **step5** stop\n"
      ],
      "metadata": {
        "id": "kEo5cMDdpRlz"
      }
    },
    {
      "cell_type": "code",
      "source": [
        "c = input(\"Enter a Character: \")\n",
        "if c>='a' and c<='z':\n",
        "    print(\"\\nIt is an alphabet\")\n",
        "elif c>='A' and c<='z':\n",
        "    print(\"\\nIt is an alphabet\")\n",
        "else:\n",
        "    print(\"\\nIt is not an alphabet!\")"
      ],
      "metadata": {
        "colab": {
          "base_uri": "https://localhost:8080/"
        },
        "id": "ofx_FoHKpX_K",
        "outputId": "6a334ad9-1d22-43f0-bcb7-83982aa5121e"
      },
      "execution_count": null,
      "outputs": [
        {
          "output_type": "stream",
          "name": "stdout",
          "text": [
            "Enter a Character: 12\n",
            "\n",
            "It is not an alphabet!\n"
          ]
        }
      ]
    },
    {
      "cell_type": "markdown",
      "source": [
        "## 12. Program to check whether an entered letter is a vowel or not\n",
        "- **step1** assign the charecter from user to be searched in c\n",
        "- **step2** assign all vowels upper and lower cases in v variable\n",
        "- **step3** use if -else conditionals to chech if c is in v\n",
        "- **step4** if =true then print its a vowel\n",
        "- **step5** else its a constant\n",
        "- **step6** stop"
      ],
      "metadata": {
        "id": "C4_oMf3apqzg"
      }
    },
    {
      "cell_type": "code",
      "source": [
        "c = input(\"Enter the Character: \")\n",
        "v={'a','e','i','o','u','A','E','I','O','U'}\n",
        "if c in v:\n",
        "    print(\"\\nIt is a Vowel\")\n",
        "else:\n",
        "    print(\"\\nIt is a Consonant\")"
      ],
      "metadata": {
        "colab": {
          "base_uri": "https://localhost:8080/"
        },
        "id": "CRAi0VdtpzPi",
        "outputId": "a60612ef-fb92-4bac-92cd-2e7daa784e30"
      },
      "execution_count": null,
      "outputs": [
        {
          "output_type": "stream",
          "name": "stdout",
          "text": [
            "Enter the Character: A\n",
            "\n",
            "It is a Vowel\n"
          ]
        }
      ]
    }
  ]
}