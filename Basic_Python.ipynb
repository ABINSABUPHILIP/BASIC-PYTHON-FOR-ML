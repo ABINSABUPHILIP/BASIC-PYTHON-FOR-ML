{
  "nbformat": 4,
  "nbformat_minor": 0,
  "metadata": {
    "colab": {
      "provenance": [],
      "authorship_tag": "ABX9TyOn0dRE6a/la/CBB4w0kTek",
      "include_colab_link": true
    },
    "kernelspec": {
      "name": "python3",
      "display_name": "Python 3"
    },
    "language_info": {
      "name": "python"
    }
  },
  "cells": [
    {
      "cell_type": "markdown",
      "metadata": {
        "id": "view-in-github",
        "colab_type": "text"
      },
      "source": [
        "<a href=\"https://colab.research.google.com/github/ABINSABUPHILIP/BASIC-PYTHON-FOR-ML/blob/main/Basic_Python.ipynb\" target=\"_parent\"><img src=\"https://colab.research.google.com/assets/colab-badge.svg\" alt=\"Open In Colab\"/></a>"
      ]
    },
    {
      "cell_type": "markdown",
      "source": [
        "# Introduction to `Python`\n",
        "\n",
        "---\n",
        "First program : Display Hello!\n"
      ],
      "metadata": {
        "id": "PMTLLHPr7JAJ"
      }
    },
    {
      "cell_type": "code",
      "execution_count": 1,
      "metadata": {
        "colab": {
          "base_uri": "https://localhost:8080/"
        },
        "id": "R5XHzQtP6S2I",
        "outputId": "1d7315af-06b7-49c6-b31a-b10fcbab7b95"
      },
      "outputs": [
        {
          "output_type": "stream",
          "name": "stdout",
          "text": [
            "Hello!\n"
          ]
        }
      ],
      "source": [
        "print (\"Hello!\")\n"
      ]
    },
    {
      "cell_type": "markdown",
      "source": [
        ">Program to asssign an integer and display it"
      ],
      "metadata": {
        "id": "U1UVg2FX9RMA"
      }
    },
    {
      "cell_type": "code",
      "source": [
        "a=276726\n",
        "print(\"value of variable a is:\",a)"
      ],
      "metadata": {
        "colab": {
          "base_uri": "https://localhost:8080/"
        },
        "id": "O-28IXEF9lTv",
        "outputId": "f29b3415-2a1d-4a16-e0f7-083fbd079128"
      },
      "execution_count": 5,
      "outputs": [
        {
          "output_type": "stream",
          "name": "stdout",
          "text": [
            "value of variable a is: 276726\n"
          ]
        }
      ]
    },
    {
      "cell_type": "markdown",
      "source": [
        ">Program to find sum of 2 integers"
      ],
      "metadata": {
        "id": "y7UoXOy094j3"
      }
    },
    {
      "cell_type": "code",
      "source": [
        "a=10\n",
        "b=20\n",
        "sum = a+b\n",
        "print(\"value of variables a+b is : \",sum)"
      ],
      "metadata": {
        "colab": {
          "base_uri": "https://localhost:8080/"
        },
        "id": "OWtvPBhM82EJ",
        "outputId": "93452be4-333b-409d-b7c7-943746efa0c8"
      },
      "execution_count": 4,
      "outputs": [
        {
          "output_type": "stream",
          "name": "stdout",
          "text": [
            "value of variables a+b is :  30\n"
          ]
        }
      ]
    },
    {
      "cell_type": "markdown",
      "source": [
        "> Read 2 numbers from user and find the sum"
      ],
      "metadata": {
        "id": "cprftsTg-UNw"
      }
    },
    {
      "cell_type": "code",
      "source": [
        "a=int(input(\"enter the first number : \")) #input() reads as string we need to use int() to read as integer\n"
      ],
      "metadata": {
        "colab": {
          "base_uri": "https://localhost:8080/"
        },
        "id": "ZcVA7h2J-bKo",
        "outputId": "c2af2ad3-8ef9-4d4d-a7b4-f4e45d7ebc58"
      },
      "execution_count": 13,
      "outputs": [
        {
          "name": "stdout",
          "output_type": "stream",
          "text": [
            "enter the first number : 67\n"
          ]
        }
      ]
    },
    {
      "cell_type": "code",
      "source": [
        "b=int(input(\"enter 2nd number : \"))"
      ],
      "metadata": {
        "colab": {
          "base_uri": "https://localhost:8080/"
        },
        "id": "koygkc83-9in",
        "outputId": "248197a5-e8ad-4556-8704-4c2afd800b16"
      },
      "execution_count": 14,
      "outputs": [
        {
          "name": "stdout",
          "output_type": "stream",
          "text": [
            "enter 2nd number : 345\n"
          ]
        }
      ]
    },
    {
      "cell_type": "code",
      "source": [
        "#displaying a and b\n",
        "print(a+b)\n",
        "sum = a+b\n",
        "print(sum)"
      ],
      "metadata": {
        "colab": {
          "base_uri": "https://localhost:8080/"
        },
        "id": "rnEKM6IW_G_v",
        "outputId": "73310724-9bcc-40c7-b5ba-56ab01015269"
      },
      "execution_count": 15,
      "outputs": [
        {
          "output_type": "stream",
          "name": "stdout",
          "text": [
            "412\n",
            "412\n"
          ]
        }
      ]
    }
  ]
}